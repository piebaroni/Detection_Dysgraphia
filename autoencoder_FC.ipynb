{
 "cells": [
  {
   "cell_type": "code",
   "execution_count": 1,
   "metadata": {},
   "outputs": [],
   "source": [
    "import tensorflow as tf\n",
    "from keras.utils import load_img\n",
    "from keras.utils import img_to_array\n",
    "from keras.applications.resnet import preprocess_input\n",
    "from keras.models import Model, load_model, Sequential\n",
    "from keras.layers import Dense, Flatten, Dropout, Input\n",
    "import pandas as pd\n",
    "from sklearn.model_selection import train_test_split\n",
    "import numpy as np"
   ]
  },
  {
   "cell_type": "code",
   "execution_count": 15,
   "metadata": {},
   "outputs": [],
   "source": [
    "features_df = pd.read_csv(r\"C:\\Users\\rocci\\OneDrive\\Desktop\\Università\\DL\\myCode\\AutoencoderFeatureExtraction.csv\")"
   ]
  },
  {
   "cell_type": "code",
   "execution_count": 3,
   "metadata": {},
   "outputs": [],
   "source": [
    "features2 = pd.read_csv(r\"C:\\Users\\rocci\\OneDrive\\Desktop\\Università\\DL\\DiagClassifierTransferLearning-main\\DiagClassifierTransferLearning-main\\updatedDataset.csv\")"
   ]
  },
  {
   "cell_type": "code",
   "execution_count": 19,
   "metadata": {},
   "outputs": [],
   "source": [
    "features_df = features_df.drop(('Unnamed: 0'), axis = 1)"
   ]
  },
  {
   "cell_type": "code",
   "execution_count": 20,
   "metadata": {},
   "outputs": [],
   "source": [
    "features_df = features_df.drop(('diag'), axis = 1)"
   ]
  },
  {
   "cell_type": "code",
   "execution_count": 21,
   "metadata": {},
   "outputs": [
    {
     "data": {
      "text/plain": [
       "<bound method NDFrame.head of             0          1          2         3         4          5         6  \\\n",
       "0    523.3593  447.37094  231.37323  361.1829  382.1728  320.71783  39.30802   \n",
       "1    523.3593  447.37094  231.37323  361.1829  382.1728  320.71783  39.30802   \n",
       "2    523.3593  447.37094  231.37323  361.1829  382.1728  320.71783  39.30802   \n",
       "3    523.3593  447.37094  231.37323  361.1829  382.1728  320.71783  39.30802   \n",
       "4    523.3593  447.37094  231.37323  361.1829  382.1728  320.71783  39.30802   \n",
       "..        ...        ...        ...       ...       ...        ...       ...   \n",
       "115  523.3593  447.37094  231.37323  361.1829  382.1728  320.71783  39.30802   \n",
       "116  523.3593  447.37094  231.37323  361.1829  382.1728  320.71783  39.30802   \n",
       "117  523.3593  447.37094  231.37323  361.1829  382.1728  320.71783  39.30802   \n",
       "118  523.3593  447.37094  231.37323  361.1829  382.1728  320.71783  39.30802   \n",
       "119  523.3593  447.37094  231.37323  361.1829  382.1728  320.71783  39.30802   \n",
       "\n",
       "            7         8          9  ...  10358      10359      10360  \\\n",
       "0    140.6395  528.7553  433.25565  ...    0.0  62.127026  467.93842   \n",
       "1    140.6395  528.7553  433.25565  ...    0.0  62.127026  467.93842   \n",
       "2    140.6395  528.7553  433.25565  ...    0.0  62.127026  467.93842   \n",
       "3    140.6395  528.7553  433.25565  ...    0.0  62.127026  467.93842   \n",
       "4    140.6395  528.7553  433.25565  ...    0.0  62.127026  467.93842   \n",
       "..        ...       ...        ...  ...    ...        ...        ...   \n",
       "115  140.6395  528.7553  433.25565  ...    0.0  62.127026  467.93842   \n",
       "116  140.6395  528.7553  433.25565  ...    0.0  62.127026  467.93842   \n",
       "117  140.6395  528.7553  433.25565  ...    0.0  62.127026  467.93842   \n",
       "118  140.6395  528.7553  433.25565  ...    0.0  62.127026  467.93842   \n",
       "119  140.6395  528.7553  433.25565  ...    0.0  62.127026  467.93842   \n",
       "\n",
       "         10361      10362      10363      10364      10365  10366     10367  \n",
       "0    423.77158  34.119953  443.44193  343.31152  263.92316    0.0  71.15552  \n",
       "1    423.77158  34.119953  443.44193  343.31152  263.92316    0.0  71.15552  \n",
       "2    423.77158  34.119953  443.44193  343.31152  263.92316    0.0  71.15552  \n",
       "3    423.77158  34.119953  443.44193  343.31152  263.92316    0.0  71.15552  \n",
       "4    423.77158  34.119953  443.44193  343.31152  263.92316    0.0  71.15552  \n",
       "..         ...        ...        ...        ...        ...    ...       ...  \n",
       "115  423.77158  34.119953  443.44193  343.31152  263.92316    0.0  71.15552  \n",
       "116  423.77158  34.119953  443.44193  343.31152  263.92316    0.0  71.15552  \n",
       "117  423.77158  34.119953  443.44193  343.31152  263.92316    0.0  71.15552  \n",
       "118  423.77158  34.119953  443.44193  343.31152  263.92316    0.0  71.15552  \n",
       "119  423.77158  34.119953  443.44193  343.31152  263.92316    0.0  71.15552  \n",
       "\n",
       "[120 rows x 10368 columns]>"
      ]
     },
     "execution_count": 21,
     "metadata": {},
     "output_type": "execute_result"
    }
   ],
   "source": [
    "features_df.head"
   ]
  },
  {
   "cell_type": "code",
   "execution_count": 23,
   "metadata": {},
   "outputs": [
    {
     "name": "stdout",
     "output_type": "stream",
     "text": [
      "ID\n",
      "diag\n",
      "Index(['0', '1', '2', '3', '4', '5', '6', '7', '8', '9',\n",
      "       ...\n",
      "       'mean_altitude', 'var_altitude', 'median_altitude', 'mean_azimuth',\n",
      "       'var_azimuth', 'median_azimuth', 'duration', 'penLifts',\n",
      "       'intersectionsCount', 'diag'],\n",
      "      dtype='object', length=10394)\n"
     ]
    }
   ],
   "source": [
    "for column in features2.columns:\n",
    "    if column == 'ID' or column == 'diag':\n",
    "        print(column)\n",
    "    else:\n",
    "        features_df[column] = features2[column]\n",
    "features_df['diag'] = features2['diag']\n",
    "print(features_df.columns)"
   ]
  },
  {
   "cell_type": "code",
   "execution_count": 24,
   "metadata": {},
   "outputs": [
    {
     "data": {
      "text/plain": [
       "10394"
      ]
     },
     "execution_count": 24,
     "metadata": {},
     "output_type": "execute_result"
    }
   ],
   "source": [
    "len(features_df.columns)"
   ]
  },
  {
   "cell_type": "code",
   "execution_count": 26,
   "metadata": {},
   "outputs": [],
   "source": [
    "# Load the CSV file\n",
    "data = features_df\n",
    "\n",
    "# Split the data into input features (X) and labels (y)\n",
    "X = data.iloc[:, :-1].values\n",
    "y = data.iloc[:, -1].values\n",
    "\n",
    "# Split the data into training and testing sets\n",
    "X_train, X_test, y_train, y_test = train_test_split(X, y, test_size=0.2, random_state=42)\n",
    "\n",
    "# Normalize the input features (optional but recommended)\n",
    "#X_train = (X_train - X_train.mean()) / X_train.std()\n",
    "#X_test = (X_test - X_test.mean()) / X_test.std()"
   ]
  },
  {
   "cell_type": "code",
   "execution_count": 27,
   "metadata": {},
   "outputs": [
    {
     "data": {
      "text/plain": [
       "array([0., 1., 1., 0., 1., 0., 0., 1., 0., 0., 1., 0., 0., 0., 0., 1., 0.,\n",
       "       0., 1., 0., 0., 1., 1., 0., 1., 0., 0., 0., 1., 1., 0., 0., 1., 0.,\n",
       "       1., 1., 1., 0., 1., 0., 0., 1., 1., 1., 1., 1., 0., 0., 1., 1., 0.,\n",
       "       0., 1., 0., 1., 0., 1., 1., 0., 1., 0., 0., 1., 0., 0., 1., 1., 0.,\n",
       "       0., 1., 1., 0., 0., 0., 0., 1., 0., 1., 1., 0., 0., 0., 1., 0., 1.,\n",
       "       1., 1., 0., 1., 1., 1., 0., 1., 0., 0., 0.], dtype=float32)"
      ]
     },
     "execution_count": 27,
     "metadata": {},
     "output_type": "execute_result"
    }
   ],
   "source": [
    "for i in range(len(y_train)):\n",
    "    if y_train[i] == 'DYSGR' or y_train[i] == 'diag':\n",
    "        y_train[i] = 1.0\n",
    "    if y_train[i] == '0':\n",
    "        y_train[i] = 0.0\n",
    "y_train = np.asarray(y_train).astype('float32')\n",
    "y_train"
   ]
  },
  {
   "cell_type": "code",
   "execution_count": 28,
   "metadata": {},
   "outputs": [
    {
     "data": {
      "text/plain": [
       "array([0., 0., 1., 1., 0., 1., 1., 1., 0., 0., 1., 1., 1., 0., 0., 0., 0.,\n",
       "       1., 1., 0., 1., 0., 0., 1.], dtype=float32)"
      ]
     },
     "execution_count": 28,
     "metadata": {},
     "output_type": "execute_result"
    }
   ],
   "source": [
    "for i in range(len(y_test)):\n",
    "    if y_test[i] == 'DYSGR' or y_test[i] == 'diag':\n",
    "        y_test[i] = 1.0\n",
    "    if y_test[i] == '0':\n",
    "        y_test[i] = 0.0\n",
    "y_test = np.asarray(y_test).astype('float32')\n",
    "y_test"
   ]
  },
  {
   "cell_type": "code",
   "execution_count": 31,
   "metadata": {},
   "outputs": [
    {
     "name": "stdout",
     "output_type": "stream",
     "text": [
      "Model: \"sequential_1\"\n",
      "_________________________________________________________________\n",
      " Layer (type)                Output Shape              Param #   \n",
      "=================================================================\n",
      " dense_5 (Dense)             (None, 512)               5321728   \n",
      "                                                                 \n",
      " dense_6 (Dense)             (None, 256)               131328    \n",
      "                                                                 \n",
      " dense_7 (Dense)             (None, 128)               32896     \n",
      "                                                                 \n",
      " dense_8 (Dense)             (None, 64)                8256      \n",
      "                                                                 \n",
      " dense_9 (Dense)             (None, 1)                 65        \n",
      "                                                                 \n",
      "=================================================================\n",
      "Total params: 5,494,273\n",
      "Trainable params: 5,494,273\n",
      "Non-trainable params: 0\n",
      "_________________________________________________________________\n"
     ]
    }
   ],
   "source": [
    "# Define the model\n",
    "model = Sequential()\n",
    "model.add(Dense(512, activation='relu', input_dim=10393))\n",
    "model.add(Dense(256, activation='relu'))\n",
    "model.add(Dense(128, activation='relu'))\n",
    "model.add(Dense(64, activation='relu'))\n",
    "model.add(Dense(1, activation='sigmoid'))\n",
    "\n",
    "# Compile the model\n",
    "model.compile(optimizer='adam', loss='binary_crossentropy', metrics=['accuracy'])\n",
    "\n",
    "model.summary()"
   ]
  },
  {
   "cell_type": "code",
   "execution_count": 32,
   "metadata": {},
   "outputs": [
    {
     "name": "stdout",
     "output_type": "stream",
     "text": [
      "Epoch 1/100\n",
      "3/3 [==============================] - 2s 115ms/step - loss: 673.2925 - accuracy: 0.5104\n",
      "Epoch 2/100\n",
      "3/3 [==============================] - 0s 106ms/step - loss: 416.0377 - accuracy: 0.4896\n",
      "Epoch 3/100\n",
      "3/3 [==============================] - 0s 109ms/step - loss: 380.9096 - accuracy: 0.4792\n",
      "Epoch 4/100\n",
      "3/3 [==============================] - 0s 113ms/step - loss: 99.2182 - accuracy: 0.5729\n",
      "Epoch 5/100\n",
      "3/3 [==============================] - 0s 117ms/step - loss: 254.0551 - accuracy: 0.5729\n",
      "Epoch 6/100\n",
      "3/3 [==============================] - 0s 132ms/step - loss: 283.1892 - accuracy: 0.6250\n",
      "Epoch 7/100\n",
      "3/3 [==============================] - 0s 126ms/step - loss: 581.8503 - accuracy: 0.5833\n",
      "Epoch 8/100\n",
      "3/3 [==============================] - 0s 118ms/step - loss: 186.3642 - accuracy: 0.5104\n",
      "Epoch 9/100\n",
      "3/3 [==============================] - 0s 112ms/step - loss: 289.0201 - accuracy: 0.4583\n",
      "Epoch 10/100\n",
      "3/3 [==============================] - 0s 112ms/step - loss: 80.5055 - accuracy: 0.5833\n",
      "Epoch 11/100\n",
      "3/3 [==============================] - 0s 117ms/step - loss: 370.2108 - accuracy: 0.4688\n",
      "Epoch 12/100\n",
      "3/3 [==============================] - 0s 114ms/step - loss: 460.1936 - accuracy: 0.5833\n",
      "Epoch 13/100\n",
      "3/3 [==============================] - 0s 111ms/step - loss: 389.2590 - accuracy: 0.4688\n",
      "Epoch 14/100\n",
      "3/3 [==============================] - 0s 117ms/step - loss: 207.6655 - accuracy: 0.5312\n",
      "Epoch 15/100\n",
      "3/3 [==============================] - 0s 102ms/step - loss: 164.6171 - accuracy: 0.5729\n",
      "Epoch 16/100\n",
      "3/3 [==============================] - 0s 105ms/step - loss: 203.0153 - accuracy: 0.5417\n",
      "Epoch 17/100\n",
      "3/3 [==============================] - 0s 110ms/step - loss: 247.2848 - accuracy: 0.5833\n",
      "Epoch 18/100\n",
      "3/3 [==============================] - 0s 107ms/step - loss: 120.2566 - accuracy: 0.4688\n",
      "Epoch 19/100\n",
      "3/3 [==============================] - 0s 107ms/step - loss: 220.6548 - accuracy: 0.5833\n",
      "Epoch 20/100\n",
      "3/3 [==============================] - 0s 103ms/step - loss: 180.4497 - accuracy: 0.4479\n",
      "Epoch 21/100\n",
      "3/3 [==============================] - 0s 102ms/step - loss: 71.7444 - accuracy: 0.6146\n",
      "Epoch 22/100\n",
      "3/3 [==============================] - 0s 113ms/step - loss: 69.2979 - accuracy: 0.5104\n",
      "Epoch 23/100\n",
      "3/3 [==============================] - 0s 107ms/step - loss: 48.9673 - accuracy: 0.5000\n",
      "Epoch 24/100\n",
      "3/3 [==============================] - 0s 108ms/step - loss: 57.0289 - accuracy: 0.5729\n",
      "Epoch 25/100\n",
      "3/3 [==============================] - 0s 110ms/step - loss: 114.7207 - accuracy: 0.5000\n",
      "Epoch 26/100\n",
      "3/3 [==============================] - 0s 104ms/step - loss: 93.7738 - accuracy: 0.5938\n",
      "Epoch 27/100\n",
      "3/3 [==============================] - 0s 109ms/step - loss: 107.6329 - accuracy: 0.5625\n",
      "Epoch 28/100\n",
      "3/3 [==============================] - 0s 107ms/step - loss: 121.8252 - accuracy: 0.5833\n",
      "Epoch 29/100\n",
      "3/3 [==============================] - 0s 108ms/step - loss: 110.8948 - accuracy: 0.5417\n",
      "Epoch 30/100\n",
      "3/3 [==============================] - 0s 116ms/step - loss: 96.1536 - accuracy: 0.5208\n",
      "Epoch 31/100\n",
      "3/3 [==============================] - 0s 108ms/step - loss: 211.9921 - accuracy: 0.5833\n",
      "Epoch 32/100\n",
      "3/3 [==============================] - 0s 102ms/step - loss: 107.4232 - accuracy: 0.5104\n",
      "Epoch 33/100\n",
      "3/3 [==============================] - 0s 111ms/step - loss: 81.9957 - accuracy: 0.5000\n",
      "Epoch 34/100\n",
      "3/3 [==============================] - 0s 107ms/step - loss: 77.5551 - accuracy: 0.5833\n",
      "Epoch 35/100\n",
      "3/3 [==============================] - 0s 110ms/step - loss: 61.8126 - accuracy: 0.4688\n",
      "Epoch 36/100\n",
      "3/3 [==============================] - 0s 109ms/step - loss: 33.3862 - accuracy: 0.5833\n",
      "Epoch 37/100\n",
      "3/3 [==============================] - 0s 108ms/step - loss: 25.9499 - accuracy: 0.4896\n",
      "Epoch 38/100\n",
      "3/3 [==============================] - 0s 107ms/step - loss: 38.5133 - accuracy: 0.5208\n",
      "Epoch 39/100\n",
      "3/3 [==============================] - 0s 109ms/step - loss: 32.7312 - accuracy: 0.5833\n",
      "Epoch 40/100\n",
      "3/3 [==============================] - 0s 108ms/step - loss: 84.5629 - accuracy: 0.5833\n",
      "Epoch 41/100\n",
      "3/3 [==============================] - 0s 110ms/step - loss: 67.3313 - accuracy: 0.5104\n",
      "Epoch 42/100\n",
      "3/3 [==============================] - 0s 107ms/step - loss: 55.8465 - accuracy: 0.5729\n",
      "Epoch 43/100\n",
      "3/3 [==============================] - 0s 107ms/step - loss: 53.6679 - accuracy: 0.5833\n",
      "Epoch 44/100\n",
      "3/3 [==============================] - 0s 123ms/step - loss: 42.5799 - accuracy: 0.5208\n",
      "Epoch 45/100\n",
      "3/3 [==============================] - 0s 115ms/step - loss: 37.5854 - accuracy: 0.5521\n",
      "Epoch 46/100\n",
      "3/3 [==============================] - 0s 108ms/step - loss: 42.2300 - accuracy: 0.5833\n",
      "Epoch 47/100\n",
      "3/3 [==============================] - 0s 110ms/step - loss: 60.8936 - accuracy: 0.4688\n",
      "Epoch 48/100\n",
      "3/3 [==============================] - 0s 109ms/step - loss: 61.1531 - accuracy: 0.5833\n",
      "Epoch 49/100\n",
      "3/3 [==============================] - 0s 116ms/step - loss: 58.7426 - accuracy: 0.5208\n",
      "Epoch 50/100\n",
      "3/3 [==============================] - 0s 104ms/step - loss: 27.1064 - accuracy: 0.5729\n",
      "Epoch 51/100\n",
      "3/3 [==============================] - 0s 103ms/step - loss: 17.3215 - accuracy: 0.5417\n",
      "Epoch 52/100\n",
      "3/3 [==============================] - 0s 108ms/step - loss: 18.6406 - accuracy: 0.6354\n",
      "Epoch 53/100\n",
      "3/3 [==============================] - 0s 108ms/step - loss: 29.1627 - accuracy: 0.4896\n",
      "Epoch 54/100\n",
      "3/3 [==============================] - 0s 106ms/step - loss: 19.6913 - accuracy: 0.6354\n",
      "Epoch 55/100\n",
      "3/3 [==============================] - 0s 111ms/step - loss: 17.5724 - accuracy: 0.5417\n",
      "Epoch 56/100\n",
      "3/3 [==============================] - 0s 102ms/step - loss: 15.9901 - accuracy: 0.5938\n",
      "Epoch 57/100\n",
      "3/3 [==============================] - 0s 113ms/step - loss: 19.5333 - accuracy: 0.6354\n",
      "Epoch 58/100\n",
      "3/3 [==============================] - 0s 109ms/step - loss: 22.9760 - accuracy: 0.5208\n",
      "Epoch 59/100\n",
      "3/3 [==============================] - 0s 105ms/step - loss: 38.1342 - accuracy: 0.5208\n",
      "Epoch 60/100\n",
      "3/3 [==============================] - 0s 108ms/step - loss: 50.5570 - accuracy: 0.5104\n",
      "Epoch 61/100\n",
      "3/3 [==============================] - 0s 106ms/step - loss: 25.9547 - accuracy: 0.4583\n",
      "Epoch 62/100\n",
      "3/3 [==============================] - 0s 103ms/step - loss: 32.7011 - accuracy: 0.4167\n",
      "Epoch 63/100\n",
      "3/3 [==============================] - 0s 107ms/step - loss: 33.9399 - accuracy: 0.5729\n",
      "Epoch 64/100\n",
      "3/3 [==============================] - 0s 111ms/step - loss: 42.1936 - accuracy: 0.5312\n",
      "Epoch 65/100\n",
      "3/3 [==============================] - 0s 104ms/step - loss: 70.3440 - accuracy: 0.4479\n",
      "Epoch 66/100\n",
      "3/3 [==============================] - 0s 107ms/step - loss: 83.5067 - accuracy: 0.5833\n",
      "Epoch 67/100\n",
      "3/3 [==============================] - 0s 104ms/step - loss: 87.9824 - accuracy: 0.5417\n",
      "Epoch 68/100\n",
      "3/3 [==============================] - 0s 101ms/step - loss: 24.2903 - accuracy: 0.6146\n",
      "Epoch 69/100\n",
      "3/3 [==============================] - 0s 105ms/step - loss: 39.6706 - accuracy: 0.4583\n",
      "Epoch 70/100\n",
      "3/3 [==============================] - 0s 101ms/step - loss: 45.9857 - accuracy: 0.6562\n",
      "Epoch 71/100\n",
      "3/3 [==============================] - 0s 104ms/step - loss: 77.7333 - accuracy: 0.5521\n",
      "Epoch 72/100\n",
      "3/3 [==============================] - 0s 110ms/step - loss: 93.2281 - accuracy: 0.5104\n",
      "Epoch 73/100\n",
      "3/3 [==============================] - 0s 104ms/step - loss: 109.9314 - accuracy: 0.4688\n",
      "Epoch 74/100\n",
      "3/3 [==============================] - 0s 108ms/step - loss: 68.1155 - accuracy: 0.5312\n",
      "Epoch 75/100\n",
      "3/3 [==============================] - 0s 104ms/step - loss: 46.7752 - accuracy: 0.5833\n",
      "Epoch 76/100\n",
      "3/3 [==============================] - 0s 105ms/step - loss: 56.2066 - accuracy: 0.5833\n",
      "Epoch 77/100\n",
      "3/3 [==============================] - 0s 103ms/step - loss: 106.4549 - accuracy: 0.4896\n",
      "Epoch 78/100\n",
      "3/3 [==============================] - 0s 101ms/step - loss: 70.6400 - accuracy: 0.5729\n",
      "Epoch 79/100\n",
      "3/3 [==============================] - 0s 105ms/step - loss: 36.7956 - accuracy: 0.5000\n",
      "Epoch 80/100\n",
      "3/3 [==============================] - 0s 99ms/step - loss: 59.1373 - accuracy: 0.5833\n",
      "Epoch 81/100\n",
      "3/3 [==============================] - 0s 104ms/step - loss: 31.1878 - accuracy: 0.4688\n",
      "Epoch 82/100\n",
      "3/3 [==============================] - 0s 116ms/step - loss: 26.7077 - accuracy: 0.5833\n",
      "Epoch 83/100\n",
      "3/3 [==============================] - 0s 106ms/step - loss: 48.8617 - accuracy: 0.4062\n",
      "Epoch 84/100\n",
      "3/3 [==============================] - 0s 99ms/step - loss: 42.9908 - accuracy: 0.5208\n",
      "Epoch 85/100\n",
      "3/3 [==============================] - 0s 105ms/step - loss: 33.2357 - accuracy: 0.6250\n",
      "Epoch 86/100\n",
      "3/3 [==============================] - 0s 107ms/step - loss: 24.2538 - accuracy: 0.4896\n",
      "Epoch 87/100\n",
      "3/3 [==============================] - 0s 108ms/step - loss: 16.9839 - accuracy: 0.4688\n",
      "Epoch 88/100\n",
      "3/3 [==============================] - 0s 104ms/step - loss: 7.6011 - accuracy: 0.5521\n",
      "Epoch 89/100\n",
      "3/3 [==============================] - 0s 104ms/step - loss: 5.2716 - accuracy: 0.6250\n",
      "Epoch 90/100\n",
      "3/3 [==============================] - 0s 107ms/step - loss: 15.5523 - accuracy: 0.5208\n",
      "Epoch 91/100\n",
      "3/3 [==============================] - 0s 99ms/step - loss: 5.9234 - accuracy: 0.4792\n",
      "Epoch 92/100\n",
      "3/3 [==============================] - 0s 103ms/step - loss: 8.6691 - accuracy: 0.5938\n",
      "Epoch 93/100\n",
      "3/3 [==============================] - 0s 101ms/step - loss: 34.9277 - accuracy: 0.4583\n",
      "Epoch 94/100\n",
      "3/3 [==============================] - 0s 103ms/step - loss: 29.8006 - accuracy: 0.5208\n",
      "Epoch 95/100\n",
      "3/3 [==============================] - 0s 112ms/step - loss: 31.0465 - accuracy: 0.4167\n",
      "Epoch 96/100\n",
      "3/3 [==============================] - 0s 102ms/step - loss: 12.2333 - accuracy: 0.5000\n",
      "Epoch 97/100\n",
      "3/3 [==============================] - 0s 103ms/step - loss: 9.6488 - accuracy: 0.5312\n",
      "Epoch 98/100\n",
      "3/3 [==============================] - 0s 103ms/step - loss: 4.2567 - accuracy: 0.6042\n",
      "Epoch 99/100\n",
      "3/3 [==============================] - 0s 103ms/step - loss: 9.8994 - accuracy: 0.5833\n",
      "Epoch 100/100\n",
      "3/3 [==============================] - 0s 103ms/step - loss: 14.8295 - accuracy: 0.3958\n"
     ]
    },
    {
     "data": {
      "text/plain": [
       "<keras.callbacks.History at 0x21baf80e880>"
      ]
     },
     "execution_count": 32,
     "metadata": {},
     "output_type": "execute_result"
    }
   ],
   "source": [
    "# Train the model\n",
    "model.fit(X_train, y_train, epochs=100, batch_size=32)"
   ]
  },
  {
   "cell_type": "code",
   "execution_count": 33,
   "metadata": {},
   "outputs": [
    {
     "name": "stdout",
     "output_type": "stream",
     "text": [
      "1/1 [==============================] - 0s 212ms/step - loss: 7.6652 - accuracy: 0.5417\n",
      "Test loss: 7.6652\n",
      "Test accuracy: 0.5417\n"
     ]
    }
   ],
   "source": [
    "# Evaluate the model on the test set\n",
    "loss, accuracy = model.evaluate(X_test, y_test)\n",
    "print(f'Test loss: {loss:.4f}')\n",
    "print(f'Test accuracy: {accuracy:.4f}')"
   ]
  },
  {
   "cell_type": "code",
   "execution_count": 34,
   "metadata": {},
   "outputs": [],
   "source": [
    "features_df.to_csv(r'C:\\Users\\rocci\\OneDrive\\Desktop\\Università\\DL\\myCode\\features2.csv', index = False)"
   ]
  }
 ],
 "metadata": {
  "kernelspec": {
   "display_name": "Python 3",
   "language": "python",
   "name": "python3"
  },
  "language_info": {
   "codemirror_mode": {
    "name": "ipython",
    "version": 3
   },
   "file_extension": ".py",
   "mimetype": "text/x-python",
   "name": "python",
   "nbconvert_exporter": "python",
   "pygments_lexer": "ipython3",
   "version": "3.8.10"
  },
  "orig_nbformat": 4
 },
 "nbformat": 4,
 "nbformat_minor": 2
}
